{
  "nbformat": 4,
  "nbformat_minor": 0,
  "metadata": {
    "colab": {
      "name": "tenserflow.ipynb",
      "version": "0.3.2",
      "provenance": [],
      "collapsed_sections": [],
      "include_colab_link": true
    },
    "kernelspec": {
      "name": "python3",
      "display_name": "Python 3"
    }
  },
  "cells": [
    {
      "cell_type": "markdown",
      "metadata": {
        "id": "view-in-github",
        "colab_type": "text"
      },
      "source": [
        "<a href=\"https://colab.research.google.com/github/nimish08/summer19-ML/blob/master/tenserflow.ipynb\" target=\"_parent\"><img src=\"https://colab.research.google.com/assets/colab-badge.svg\" alt=\"Open In Colab\"/></a>"
      ]
    },
    {
      "cell_type": "code",
      "metadata": {
        "id": "fuwBMHI3nHEf",
        "colab_type": "code",
        "colab": {}
      },
      "source": [
        "import tensorflow as tf"
      ],
      "execution_count": 0,
      "outputs": []
    },
    {
      "cell_type": "code",
      "metadata": {
        "id": "hoy5uUmynXx9",
        "colab_type": "code",
        "colab": {}
      },
      "source": [
        "# to assign fix value in tenserflow we need to define constant\n",
        "x=tf.constant(30) # single value constant"
      ],
      "execution_count": 0,
      "outputs": []
    },
    {
      "cell_type": "code",
      "metadata": {
        "id": "Z8cvRuwOnlhn",
        "colab_type": "code",
        "colab": {}
      },
      "source": [
        "x1=tf.constant([3,5,66,88]) # multi value constant"
      ],
      "execution_count": 0,
      "outputs": []
    },
    {
      "cell_type": "code",
      "metadata": {
        "id": "bX-3XPban4Yn",
        "colab_type": "code",
        "colab": {
          "base_uri": "https://localhost:8080/",
          "height": 34
        },
        "outputId": "e4649807-2fa8-4015-f366-0c01c55a9016"
      },
      "source": [
        "# type of x\n",
        "type(x)"
      ],
      "execution_count": 7,
      "outputs": [
        {
          "output_type": "execute_result",
          "data": {
            "text/plain": [
              "tensorflow.python.framework.ops.Tensor"
            ]
          },
          "metadata": {
            "tags": []
          },
          "execution_count": 7
        }
      ]
    },
    {
      "cell_type": "code",
      "metadata": {
        "id": "GmEq1AYgn7q4",
        "colab_type": "code",
        "colab": {}
      },
      "source": [
        "# y\n",
        "y=tf.constant(20)"
      ],
      "execution_count": 0,
      "outputs": []
    },
    {
      "cell_type": "code",
      "metadata": {
        "id": "hooXSHecoA0p",
        "colab_type": "code",
        "colab": {}
      },
      "source": [
        "# equation\n",
        "z=x+y # new tensor -- z equation compile and store and wait for resourses\n",
        "# CPU ,GPU , TPU ---"
      ],
      "execution_count": 0,
      "outputs": []
    },
    {
      "cell_type": "code",
      "metadata": {
        "id": "ROteToj9oS0P",
        "colab_type": "code",
        "colab": {}
      },
      "source": [
        "# we have another method to add the same\n",
        "z1=tf.add(x,y)"
      ],
      "execution_count": 0,
      "outputs": []
    },
    {
      "cell_type": "code",
      "metadata": {
        "id": "reHLKLLAobi0",
        "colab_type": "code",
        "colab": {
          "base_uri": "https://localhost:8080/",
          "height": 34
        },
        "outputId": "b3c772a5-3cb7-445c-a49e-d1c749ce175f"
      },
      "source": [
        "z1"
      ],
      "execution_count": 11,
      "outputs": [
        {
          "output_type": "execute_result",
          "data": {
            "text/plain": [
              "<tf.Tensor 'Add_1:0' shape=() dtype=int32>"
            ]
          },
          "metadata": {
            "tags": []
          },
          "execution_count": 11
        }
      ]
    },
    {
      "cell_type": "code",
      "metadata": {
        "id": "fq81DmktocGt",
        "colab_type": "code",
        "colab": {}
      },
      "source": [
        "# now assign resourse to our equation\n",
        "sess=tf.Session()  # connect CPU, GPU, TPU"
      ],
      "execution_count": 0,
      "outputs": []
    },
    {
      "cell_type": "code",
      "metadata": {
        "id": "kPP71Cxy0TNm",
        "colab_type": "code",
        "colab": {}
      },
      "source": [
        "# now we can run our equation\n",
        "output=sess.run(z)"
      ],
      "execution_count": 0,
      "outputs": []
    },
    {
      "cell_type": "code",
      "metadata": {
        "id": "zxl7ZdiV0hmL",
        "colab_type": "code",
        "colab": {
          "base_uri": "https://localhost:8080/",
          "height": 34
        },
        "outputId": "1a03bf1f-2c6e-455d-ec5c-76ad2716ba6e"
      },
      "source": [
        "output"
      ],
      "execution_count": 15,
      "outputs": [
        {
          "output_type": "execute_result",
          "data": {
            "text/plain": [
              "50"
            ]
          },
          "metadata": {
            "tags": []
          },
          "execution_count": 15
        }
      ]
    },
    {
      "cell_type": "code",
      "metadata": {
        "id": "eVtBWaIi0i1O",
        "colab_type": "code",
        "colab": {}
      },
      "source": [
        "# clossing session\n",
        "sess.close()"
      ],
      "execution_count": 0,
      "outputs": []
    },
    {
      "cell_type": "code",
      "metadata": {
        "id": "Lq2O-ONb0nwg",
        "colab_type": "code",
        "colab": {}
      },
      "source": [
        "# we can perform same task in another way\n",
        "with tf.Session() as sess:\n",
        "  output1=sess.run(z)\n",
        "  tf.summary.FileWriter(sess.graph)"
      ],
      "execution_count": 0,
      "outputs": []
    },
    {
      "cell_type": "code",
      "metadata": {
        "id": "7ieEiw9M00sa",
        "colab_type": "code",
        "colab": {
          "base_uri": "https://localhost:8080/",
          "height": 34
        },
        "outputId": "c68b7f0f-b174-4e5a-abd1-f2ec5e3412a6"
      },
      "source": [
        "output1\n"
      ],
      "execution_count": 27,
      "outputs": [
        {
          "output_type": "execute_result",
          "data": {
            "text/plain": [
              "50"
            ]
          },
          "metadata": {
            "tags": []
          },
          "execution_count": 27
        }
      ]
    },
    {
      "cell_type": "code",
      "metadata": {
        "id": "GhTUerqW1L2k",
        "colab_type": "code",
        "colab": {}
      },
      "source": [
        "# placeholder\n",
        "# first placeholder\n",
        "p1=tf.placeholder(tf.int32)"
      ],
      "execution_count": 0,
      "outputs": []
    },
    {
      "cell_type": "code",
      "metadata": {
        "id": "dAp7LOMC3qre",
        "colab_type": "code",
        "colab": {}
      },
      "source": [
        "# placeholder 2\n",
        "p2=tf.placeholder(tf.int32)"
      ],
      "execution_count": 0,
      "outputs": []
    },
    {
      "cell_type": "code",
      "metadata": {
        "id": "LkCzNLRU32_S",
        "colab_type": "code",
        "colab": {}
      },
      "source": [
        "# adding values\n",
        "sum =tf.add(p1,p2)"
      ],
      "execution_count": 0,
      "outputs": []
    },
    {
      "cell_type": "code",
      "metadata": {
        "id": "b6SxM21X38Zr",
        "colab_type": "code",
        "colab": {}
      },
      "source": [
        "# general\n",
        "sum1=p1+p2"
      ],
      "execution_count": 0,
      "outputs": []
    },
    {
      "cell_type": "code",
      "metadata": {
        "id": "ev7iDhe64IDu",
        "colab_type": "code",
        "colab": {}
      },
      "source": [
        "# time for creating session\n",
        "with tf.Session() as sess:\n",
        "  output2=sess.run(sum1,{p1:[3,6],p2:[5,8]})"
      ],
      "execution_count": 0,
      "outputs": []
    },
    {
      "cell_type": "code",
      "metadata": {
        "id": "3NHjIalr4cR7",
        "colab_type": "code",
        "colab": {
          "base_uri": "https://localhost:8080/",
          "height": 34
        },
        "outputId": "1f0e28cd-8831-411e-bbe2-bc7ecf5ab248"
      },
      "source": [
        "output2"
      ],
      "execution_count": 36,
      "outputs": [
        {
          "output_type": "execute_result",
          "data": {
            "text/plain": [
              "array([ 8, 14], dtype=int32)"
            ]
          },
          "metadata": {
            "tags": []
          },
          "execution_count": 36
        }
      ]
    },
    {
      "cell_type": "code",
      "metadata": {
        "id": "-A9mbK7m4d7d",
        "colab_type": "code",
        "colab": {}
      },
      "source": [
        ""
      ],
      "execution_count": 0,
      "outputs": []
    }
  ]
}