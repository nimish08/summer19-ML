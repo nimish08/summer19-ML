{
  "nbformat": 4,
  "nbformat_minor": 0,
  "metadata": {
    "colab": {
      "name": "Poly_Reg.ipynb",
      "version": "0.3.2",
      "provenance": [],
      "collapsed_sections": [],
      "include_colab_link": true
    },
    "kernelspec": {
      "name": "python3",
      "display_name": "Python 3"
    }
  },
  "cells": [
    {
      "cell_type": "markdown",
      "metadata": {
        "id": "view-in-github",
        "colab_type": "text"
      },
      "source": [
        "<a href=\"https://colab.research.google.com/github/nimish08/summer19-ML/blob/master/Poly_Reg.ipynb\" target=\"_parent\"><img src=\"https://colab.research.google.com/assets/colab-badge.svg\" alt=\"Open In Colab\"/></a>"
      ]
    },
    {
      "cell_type": "code",
      "metadata": {
        "id": "t3LuhVnaEJ-g",
        "colab_type": "code",
        "colab": {}
      },
      "source": [
        "import pandas as pd\n",
        "import matplotlib.pyplot as plt"
      ],
      "execution_count": 0,
      "outputs": []
    },
    {
      "cell_type": "code",
      "metadata": {
        "id": "G1hRdZmeESve",
        "colab_type": "code",
        "colab": {}
      },
      "source": [
        "#data loading\n",
        "df=pd.read_csv('http://13.234.66.67/summer19/datasets/salary.csv')"
      ],
      "execution_count": 0,
      "outputs": []
    },
    {
      "cell_type": "code",
      "metadata": {
        "id": "JUMC6p0xEdZ4",
        "colab_type": "code",
        "colab": {}
      },
      "source": [
        "#exp\n",
        "exp=df.iloc[:,0:1].values"
      ],
      "execution_count": 0,
      "outputs": []
    },
    {
      "cell_type": "code",
      "metadata": {
        "id": "RfCZi1wLEkgN",
        "colab_type": "code",
        "colab": {}
      },
      "source": [
        "#sal\n",
        "sal=df.iloc[:,1:2].values"
      ],
      "execution_count": 0,
      "outputs": []
    },
    {
      "cell_type": "code",
      "metadata": {
        "id": "q1yZ22ZZEq6K",
        "colab_type": "code",
        "colab": {}
      },
      "source": [
        "#call linear model just for comparing\n",
        "from sklearn.linear_model import LinearRegression\n",
        "regr1=LinearRegression()"
      ],
      "execution_count": 0,
      "outputs": []
    },
    {
      "cell_type": "code",
      "metadata": {
        "id": "x8KFNJz9E87s",
        "colab_type": "code",
        "colab": {}
      },
      "source": [
        "# to transfer data we can call poly transform method\n",
        "from sklearn.preprocessing import PolynomialFeatures"
      ],
      "execution_count": 0,
      "outputs": []
    },
    {
      "cell_type": "code",
      "metadata": {
        "id": "rotuUP28FOon",
        "colab_type": "code",
        "colab": {}
      },
      "source": [
        "#experience transform\n",
        "poly=PolynomialFeatures(degree=2)"
      ],
      "execution_count": 0,
      "outputs": []
    },
    {
      "cell_type": "code",
      "metadata": {
        "id": "LlFN3CynFX-e",
        "colab_type": "code",
        "colab": {}
      },
      "source": [
        "# experience fitting\n",
        "newexp=poly.fit_transform(exp)"
      ],
      "execution_count": 0,
      "outputs": []
    },
    {
      "cell_type": "code",
      "metadata": {
        "id": "RKjxlw2pFlnx",
        "colab_type": "code",
        "colab": {
          "base_uri": "https://localhost:8080/",
          "height": 518
        },
        "outputId": "c49ff875-be00-4c66-c18a-b9d9fe583754"
      },
      "source": [
        "newexp"
      ],
      "execution_count": 9,
      "outputs": [
        {
          "output_type": "execute_result",
          "data": {
            "text/plain": [
              "array([[  1.  ,   1.1 ,   1.21],\n",
              "       [  1.  ,   1.3 ,   1.69],\n",
              "       [  1.  ,   1.5 ,   2.25],\n",
              "       [  1.  ,   2.  ,   4.  ],\n",
              "       [  1.  ,   2.2 ,   4.84],\n",
              "       [  1.  ,   2.9 ,   8.41],\n",
              "       [  1.  ,   3.  ,   9.  ],\n",
              "       [  1.  ,   3.2 ,  10.24],\n",
              "       [  1.  ,   3.2 ,  10.24],\n",
              "       [  1.  ,   3.7 ,  13.69],\n",
              "       [  1.  ,   3.9 ,  15.21],\n",
              "       [  1.  ,   4.  ,  16.  ],\n",
              "       [  1.  ,   4.  ,  16.  ],\n",
              "       [  1.  ,   4.1 ,  16.81],\n",
              "       [  1.  ,   4.5 ,  20.25],\n",
              "       [  1.  ,   4.9 ,  24.01],\n",
              "       [  1.  ,   5.1 ,  26.01],\n",
              "       [  1.  ,   5.3 ,  28.09],\n",
              "       [  1.  ,   5.9 ,  34.81],\n",
              "       [  1.  ,   6.  ,  36.  ],\n",
              "       [  1.  ,   6.8 ,  46.24],\n",
              "       [  1.  ,   7.1 ,  50.41],\n",
              "       [  1.  ,   7.9 ,  62.41],\n",
              "       [  1.  ,   8.2 ,  67.24],\n",
              "       [  1.  ,   8.7 ,  75.69],\n",
              "       [  1.  ,   9.  ,  81.  ],\n",
              "       [  1.  ,   9.5 ,  90.25],\n",
              "       [  1.  ,   9.6 ,  92.16],\n",
              "       [  1.  ,  10.3 , 106.09],\n",
              "       [  1.  ,  10.5 , 110.25]])"
            ]
          },
          "metadata": {
            "tags": []
          },
          "execution_count": 9
        }
      ]
    },
    {
      "cell_type": "code",
      "metadata": {
        "id": "PMoQi0MgFnTF",
        "colab_type": "code",
        "colab": {}
      },
      "source": [
        "# apply linear regression\n",
        "trained1=regr1.fit(exp,sal)"
      ],
      "execution_count": 0,
      "outputs": []
    },
    {
      "cell_type": "code",
      "metadata": {
        "id": "kkztzjGKGBUv",
        "colab_type": "code",
        "colab": {
          "base_uri": "https://localhost:8080/",
          "height": 283
        },
        "outputId": "9a2bab73-1298-4171-a149-f416d855113e"
      },
      "source": [
        "#now creating linear model again\n",
        "plt.xlabel('Experience')\n",
        "plt.ylabel('Salary')\n",
        "plt.scatter(exp,sal,label=\"Actual Sal\")\n",
        "plt.plot(exp,trained1.predict(exp),label=\"Linear model predict salary\")\n",
        "plt.legend()\n",
        "plt.show()"
      ],
      "execution_count": 11,
      "outputs": [
        {
          "output_type": "display_data",
          "data": {
            "image/png": "[encoded data removed]",
            "text/plain": [
              "<Figure size 432x288 with 1 Axes>"
            ]
          },
          "metadata": {
            "tags": []
          }
        }
      ]
    },
    {
      "cell_type": "code",
      "metadata": {
        "id": "nDs6DfXHGsUc",
        "colab_type": "code",
        "colab": {}
      },
      "source": [
        "#applying new exp data in model\n",
        "regr2=LinearRegression()\n"
      ],
      "execution_count": 0,
      "outputs": []
    },
    {
      "cell_type": "code",
      "metadata": {
        "id": "RRd9EI7QG99g",
        "colab_type": "code",
        "colab": {}
      },
      "source": [
        "#new exp data apply\n",
        "trained2=regr2.fit(newexp,sal)"
      ],
      "execution_count": 0,
      "outputs": []
    },
    {
      "cell_type": "code",
      "metadata": {
        "id": "C5J5Ym9sHGd9",
        "colab_type": "code",
        "colab": {
          "base_uri": "https://localhost:8080/",
          "height": 283
        },
        "outputId": "8d57b984-635e-429b-f154-2023db88b41f"
      },
      "source": [
        "#now creating linear model again\n",
        "plt.xlabel('Experience')\n",
        "plt.ylabel('Salary')\n",
        "plt.scatter(exp,sal,label=\"Actual Sal\")\n",
        "plt.plot(newexp,trained2.predict(newexp),label=\"New model\")\n",
        "plt.legend()\n",
        "plt.show()"
      ],
      "execution_count": 21,
      "outputs": [
        {
          "output_type": "display_data",
          "data": {
            "image/png": "[encoded data removed]",
            "text/plain": [
              "<Figure size 432x288 with 1 Axes>"
            ]
          },
          "metadata": {
            "tags": []
          }
        }
      ]
    },
    {
      "cell_type": "code",
      "metadata": {
        "id": "7Oe0dyjLHP8y",
        "colab_type": "code",
        "colab": {}
      },
      "source": [
        ""
      ],
      "execution_count": 0,
      "outputs": []
    }
  ]
}