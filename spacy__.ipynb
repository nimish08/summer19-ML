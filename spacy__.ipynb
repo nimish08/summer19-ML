{
  "nbformat": 4,
  "nbformat_minor": 0,
  "metadata": {
    "colab": {
      "name": "spacy__.ipynb",
      "version": "0.3.2",
      "provenance": [],
      "collapsed_sections": [],
      "include_colab_link": true
    },
    "kernelspec": {
      "name": "python3",
      "display_name": "Python 3"
    }
  },
  "cells": [
    {
      "cell_type": "markdown",
      "metadata": {
        "id": "view-in-github",
        "colab_type": "text"
      },
      "source": [
        "<a href=\"https://colab.research.google.com/github/nimish08/summer19-ML/blob/master/spacy__.ipynb\" target=\"_parent\"><img src=\"https://colab.research.google.com/assets/colab-badge.svg\" alt=\"Open In Colab\"/></a>"
      ]
    },
    {
      "cell_type": "code",
      "metadata": {
        "id": "4-pLQsJ5epXt",
        "colab_type": "code",
        "colab": {}
      },
      "source": [
        "import spacy"
      ],
      "execution_count": 0,
      "outputs": []
    },
    {
      "cell_type": "code",
      "metadata": {
        "id": "8sg43yvjerbj",
        "colab_type": "code",
        "colab": {}
      },
      "source": [
        "#language \n",
        "nlp=spacy.load('en')"
      ],
      "execution_count": 0,
      "outputs": []
    },
    {
      "cell_type": "code",
      "metadata": {
        "id": "RW2ozKdzfO1A",
        "colab_type": "code",
        "colab": {}
      },
      "source": [
        "data='hello worlsd i am going to play football'"
      ],
      "execution_count": 0,
      "outputs": []
    },
    {
      "cell_type": "code",
      "metadata": {
        "id": "pq5pSKQSfUcm",
        "colab_type": "code",
        "colab": {}
      },
      "source": [
        "new_data=nlp(data) # automatic tokenize"
      ],
      "execution_count": 0,
      "outputs": []
    },
    {
      "cell_type": "code",
      "metadata": {
        "id": "-0-EPEotfZqb",
        "colab_type": "code",
        "colab": {
          "base_uri": "https://localhost:8080/",
          "height": 418
        },
        "outputId": "bd25a700-645a-4294-80b8-10faf0493c92"
      },
      "source": [
        "for i in new_data:\n",
        "  print(i,\"lemmatization of word is --->\",i.lemma_)\n",
        "  print(i,\"POS\",i.pos_)\n",
        "  print(\"**********************************************\")"
      ],
      "execution_count": 14,
      "outputs": [
        {
          "output_type": "stream",
          "text": [
            "hello lemmatization of word is ---> hello\n",
            "hello POS INTJ\n",
            "**********************************************\n",
            "worlsd lemmatization of word is ---> worlsd\n",
            "worlsd POS NOUN\n",
            "**********************************************\n",
            "i lemmatization of word is ---> i\n",
            "i POS PRON\n",
            "**********************************************\n",
            "am lemmatization of word is ---> be\n",
            "am POS VERB\n",
            "**********************************************\n",
            "going lemmatization of word is ---> go\n",
            "going POS VERB\n",
            "**********************************************\n",
            "to lemmatization of word is ---> to\n",
            "to POS PART\n",
            "**********************************************\n",
            "play lemmatization of word is ---> play\n",
            "play POS VERB\n",
            "**********************************************\n",
            "football lemmatization of word is ---> football\n",
            "football POS NOUN\n",
            "**********************************************\n"
          ],
          "name": "stdout"
        }
      ]
    },
    {
      "cell_type": "code",
      "metadata": {
        "id": "L81XsiAvfpGZ",
        "colab_type": "code",
        "colab": {}
      },
      "source": [
        ""
      ],
      "execution_count": 0,
      "outputs": []
    }
  ]
}